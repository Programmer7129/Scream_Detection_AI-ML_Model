{
  "cells": [
    {
      "cell_type": "code",
      "execution_count": null,
      "metadata": {
        "colab": {
          "base_uri": "https://localhost:8080/",
          "height": 392
        },
        "id": "iFK9tPPGELbX",
        "outputId": "f80b619a-95f6-40e5-c514-00974c39da3a"
      },
      "outputs": [],
      "source": [
        "import numpy as np\n",
        "from tensorflow import keras\n",
        "import pandas as pd\n",
        "from scipy.io.wavfile import read\n",
        "\n",
        "def tetsting_unit(filename):\n",
        "    tester = []\n",
        "    import librosa \n",
        "    test, ans = librosa.load(filename)  # provide path of  wave file\n",
        "    mfccs = np.mean(librosa.feature.mfcc(y=test, sr=ans, n_mfcc=40).T, axis=0)\n",
        "    tester.append(mfccs)\n",
        "    tester = np.array(tester)\n",
        "    return tester #return Mfcss extracted arrray \n",
        "\n",
        "def process_file(filename):\n",
        "    arr = []\n",
        "    model = keras.models.load_model('.')\n",
        "    print(filename)\n",
        "    data, rs = read(filename)\n",
        "    file = open(\"input dimension for model.txt\", \"r\")\n",
        "    suitable_length_for_model = int(file.read())\n",
        "    file.close()\n",
        "    rs = rs.astype(float)\n",
        "    rs = rs[0:suitable_length_for_model+1]\n",
        "    a = pd.Series(rs)\n",
        "    arr.append(a)\n",
        "    df = pd.DataFrame(arr)\n",
        "    X2 = df.iloc[0:, 1:]\n",
        "    #print(X2)\n",
        "    predictions = model.predict(X2)\n",
        "    rounded = [round(x[0]) for x in predictions]\n",
        "\n",
        "    #print(\"predicted value is\" + str(rounded))\n",
        "    if str(rounded)=='[1.0]':\n",
        "        return True\n",
        "    else:\n",
        "        return False\n",
        "\n",
        "def svm_process(filename):\n",
        "    import pickle  # importing pickle to load saved model\n",
        "\n",
        "    load_model = pickle.load(open('phase1_model.sav', 'rb'))  # loading phase_1 model (noise vs speech)\n",
        "    result = load_model.predict(tetsting_unit(filename))  # predicting if result[0]==1 then noise else human sound\n",
        "    load_model2 = pickle.load(open('phase2_model.sav', 'rb'))  # loading phase2 model\n",
        "    if result[0] == 2:  # checking sound noise or human\n",
        "        print(\"Phase-1 clear\")\n",
        "        ok = load_model2.predict(tetsting_unit(filename))  # using second phase_model\n",
        "        if ok[0] == 1:\n",
        "            # print(\"Phase-2 clear\")\n",
        "            # print('Scream')\n",
        "            return True\n",
        "        else:\n",
        "            # print('speech')\n",
        "            return False\n",
        "    else:\n",
        "        # print(\"noise\")\n",
        "        return \"Noise\"\n",
        "\n",
        "\n",
        "# dataset for this model can be easily prepare by datasetmaker.py file\n",
        "import pandas as pd\n",
        "from keras.models import Sequential\n",
        "from keras.layers import Dense\n",
        "\n",
        "df = pd.read_csv('newresources.csv', index_col=0, engine = 'c')\n",
        "file = open(\"beginning index of testing files.txt\",\"r\")\n",
        "data1 = int(file.read())\n",
        "file.close()\n",
        "row_num_for_verification_of_model = data1\n",
        "X = df.iloc[:row_num_for_verification_of_model,1:]  #independent variables columnns\n",
        "print(row_num_for_verification_of_model)\n",
        "X2 = df.iloc[row_num_for_verification_of_model:,1:]\n",
        "file = open(\"input dimension for model.txt\",\"r\")\n",
        "data2 = int(file.read())\n",
        "file.close()\n",
        "print(data2)\n",
        "total_number_of_column_required_for_prediction = data2\n",
        "column_number_of_csv_having_labels = 0\n",
        "y = df.iloc[:data1,column_number_of_csv_having_labels] # dependent variable column\n",
        "# # define the keras model\n",
        "model = Sequential()\n",
        "model.add(Dense(12, input_dim=total_number_of_column_required_for_prediction, activation='relu'))\n",
        "model.add(Dense(8, activation='relu'))\n",
        "\n",
        "model.add(Dense(10, activation='relu'))\n",
        "model.add(Dense(5, activation='relu'))\n",
        "model.add(Dense(3, activation='relu'))\n",
        "model.add(Dense(1, activation='sigmoid'))\n",
        "\n",
        "# compile the keras model\n",
        "model.compile(loss='binary_crossentropy', optimizer='adam', metrics=['accuracy'])\n",
        "\n",
        "# fit the keras model on the dataset\n",
        "history = model.fit(X, y,validation_split=0.33, epochs=150, batch_size=50\n",
        "\n",
        "                    )\n",
        "\n",
        "\n",
        "# evaluate the keras model\n",
        "_, accuracy = model.evaluate(X, y)\n",
        "print('Accuracy: %.2f' % (accuracy * 100))\n",
        "\n",
        "# make probability predictions with the model\n",
        "predictions = model.predict(X2)\n",
        "\n",
        "# round predictions\n",
        "rounded = [round(x[0]) for x in predictions]\n",
        "\n",
        "print(\"predicted value is\"+str(rounded))\n",
        "print(\"actual value was\"+str(list(df.iloc[row_num_for_verification_of_model:,column_number_of_csv_having_labels])))\n",
        "\n",
        "model.save('.')\n"
      ]
    },
    {
      "cell_type": "code",
      "execution_count": null,
      "metadata": {
        "colab": {
          "base_uri": "https://localhost:8080/"
        },
        "id": "Aui-unc4hfOb",
        "outputId": "f7dc76f1-f8e7-4ef7-d4ae-7ea49e5af469"
      },
      "outputs": [],
      "source": [
        "filename = 'sample_data/positive/damm_0.wav'\n",
        "\n",
        "output1 = svm_process(filename) "
      ]
    },
    {
      "cell_type": "code",
      "execution_count": null,
      "metadata": {
        "colab": {
          "base_uri": "https://localhost:8080/"
        },
        "id": "3MGt7AX7luP3",
        "outputId": "76a71057-83b0-41fb-d4de-0c9f810587af"
      },
      "outputs": [],
      "source": [
        "print(\"model 1\")\n",
        "print(output1)"
      ]
    },
    {
      "cell_type": "code",
      "execution_count": null,
      "metadata": {
        "colab": {
          "base_uri": "https://localhost:8080/"
        },
        "id": "szGuQkWQmYLH",
        "outputId": "33a0d780-3462-436b-c454-64c7a72913f9"
      },
      "outputs": [],
      "source": [
        "output2 = process_file(filename)               # it will process file in multilayer perceptron model\n",
        "\n",
        "print(\"model 2\")\n",
        "print(output2)"
      ]
    },
    {
      "cell_type": "code",
      "execution_count": null,
      "metadata": {
        "colab": {
          "base_uri": "https://localhost:8080/"
        },
        "id": "hLQ63Aqdma_H",
        "outputId": "1f37c108-dd08-4043-a4e7-1336069b4813"
      },
      "outputs": [],
      "source": [
        "if output1== True and output2 == True:\n",
        "    pass    \n",
        "    # call emergency funtion with higher risk currently we haven;t implemented emergency function\n",
        "    text = \"[size=30]Risk is [color=#FF0000]high[/color] calling \\nemergency function[/size]\"\n",
        "    print(text)\n",
        "elif output1 == True or output2 == True:\n",
        "    # call emergency function\n",
        "    text = \"[size=30]Risk is [color=#008000]Medium[/color] calling \\nemergency function[/size]\"\n",
        "    print(text)\n",
        "    pass\n",
        "else:\n",
        "    print(\"you are safe\")"
      ]
    },
    {
      "cell_type": "code",
      "execution_count": null,
      "metadata": {
        "id": "uslDEqsOx_Ol"
      },
      "outputs": [],
      "source": []
    }
  ],
  "metadata": {
    "accelerator": "GPU",
    "colab": {
      "gpuType": "T4",
      "provenance": []
    },
    "gpuClass": "standard",
    "kernelspec": {
      "display_name": "Python 3",
      "name": "python3"
    },
    "language_info": {
      "codemirror_mode": {
        "name": "ipython",
        "version": 3
      },
      "file_extension": ".py",
      "mimetype": "text/x-python",
      "name": "python",
      "nbconvert_exporter": "python",
      "pygments_lexer": "ipython3",
      "version": "3.9.7"
    }
  },
  "nbformat": 4,
  "nbformat_minor": 0
}
